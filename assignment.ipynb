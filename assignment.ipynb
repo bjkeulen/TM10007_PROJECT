{
  "nbformat": 4,
  "nbformat_minor": 0,
  "metadata": {
    "colab": {
      "name": "assignment.ipynb",
      "provenance": [],
      "collapsed_sections": [],
      "toc_visible": true,
      "include_colab_link": true
    },
    "kernelspec": {
      "display_name": "Python 3",
      "language": "python",
      "name": "python3"
    },
    "language_info": {
      "codemirror_mode": {
        "name": "ipython",
        "version": 3
      },
      "file_extension": ".py",
      "mimetype": "text/x-python",
      "name": "python",
      "nbconvert_exporter": "python",
      "pygments_lexer": "ipython3",
      "version": "3.7.4"
    }
  },
  "cells": [
    {
      "cell_type": "markdown",
      "metadata": {
        "id": "view-in-github",
        "colab_type": "text"
      },
      "source": [
        "<a href=\"https://colab.research.google.com/github/bjkeulen/TM10007_PROJECT/blob/master/assignment.ipynb\" target=\"_parent\"><img src=\"https://colab.research.google.com/assets/colab-badge.svg\" alt=\"Open In Colab\"/></a>"
      ]
    },
    {
      "cell_type": "markdown",
      "metadata": {
        "colab_type": "text",
        "id": "7SXpaKwwGe5x"
      },
      "source": [
        "# TM10007 Assignment template"
      ]
    },
    {
      "cell_type": "code",
      "metadata": {
        "colab_type": "code",
        "id": "CiDn2Sk-VWqE",
        "outputId": "594b6c3d-40df-4a29-97dc-bd5832ebcbfb",
        "colab": {
          "base_uri": "https://localhost:8080/",
          "height": 35
        }
      },
      "source": [
        "# Run this to use from colab environment\n",
        "!pip install -q --upgrade git+https://github.com/bjkeulen/TM10007_PROJECT"
      ],
      "execution_count": 8,
      "outputs": [
        {
          "output_type": "stream",
          "text": [
            "  Building wheel for brats (setup.py) ... \u001b[?25l\u001b[?25hdone\n"
          ],
          "name": "stdout"
        }
      ]
    },
    {
      "cell_type": "code",
      "metadata": {
        "id": "KRBEC6DBEJNN",
        "colab_type": "code",
        "colab": {}
      },
      "source": [
        "# General packages\n",
        "import numpy as np \n",
        "import pandas as pd\n",
        "import matplotlib.pyplot as plt\n",
        "from sklearn import datasets as ds\n",
        "from sklearn import metrics\n",
        "from sklearn.model_selection import train_test_split\n",
        "from sklearn.decomposition import PCA\n",
        " \n",
        "# Metrics\n",
        "#from sklearn.metrics import confusion_matrix\n",
        "#from sklearn.metrics import mean_absolute_error\n",
        "# from sklearn.metrics import r2_score\n",
        "\n",
        "# Classifiers\n",
        "from sklearn.naive_bayes import GaussianNB\n",
        "from sklearn.discriminant_analysis import LinearDiscriminantAnalysis\n",
        "from sklearn.discriminant_analysis import QuadraticDiscriminantAnalysis\n",
        "from sklearn.linear_model import LogisticRegression\n",
        "from sklearn.linear_model import SGDClassifier\n",
        "from sklearn.tree import DecisionTreeClassifier\n",
        "from sklearn.neighbors import KNeighborsClassifier"
      ],
      "execution_count": 0,
      "outputs": []
    },
    {
      "cell_type": "markdown",
      "metadata": {
        "id": "Yg0SFnjDvIht",
        "colab_type": "text"
      },
      "source": [
        "## Data loading and cleaning\n",
        "\n",
        "Below are functions to load the dataset of your choice. After that, it is all up to you to create and evaluate a classification method. Beware, there may be missing values in these datasets. Good luck!"
      ]
    },
    {
      "cell_type": "code",
      "metadata": {
        "colab_type": "code",
        "id": "-NE_fTbKGe5z",
        "outputId": "de14b109-51d0-4a6b-d12f-e8330ded84f9",
        "colab": {
          "base_uri": "https://localhost:8080/",
          "height": 225
        }
      },
      "source": [
        "# Data loading functions. Uncomment the one you want to use\n",
        "from hn.load_data import load_data\n",
        "\n",
        "data = load_data()\n",
        "features = data.drop('label', 1)\n",
        "label = data['label']\n",
        "label_int = label.str.replace('T','').astype(int)\n",
        "\n",
        "print(f'The number of samples: {len(data.index)}')\n",
        "print(f'The number of columns: {len(data.columns)}')\n",
        "\n",
        "# Split labels in groups ??\n",
        "# label[>X] = 0\n",
        "# label[<=X] = 1\n",
        "\n",
        "# Split in training and test data\n",
        "feat_train, feat_test, label_train, label_test = train_test_split(\n",
        "    features, label_int, test_size=0.4, random_state=0)\n",
        "\n",
        "# Principal component analysis (PCA)\n",
        "p = PCA(n_components=4)\n",
        "p = p.fit(feat_train)\n",
        "feat_train_pca = p.transform(feat_train)\n",
        "feat_test_pca = p.transform(feat_test)\n",
        "\n",
        "# Train and test classifiers, calculate performance\n",
        "clsfs = [LinearDiscriminantAnalysis(),QuadraticDiscriminantAnalysis(),GaussianNB(), \n",
        "         LogisticRegression(),SGDClassifier(),KNeighborsClassifier()]\n",
        "col_names = ['LDA', 'QDA', 'Gaussian NB', 'Logistic Regr', 'SGDC', 'KNN']\n",
        "index_names = ['AUC', 'Accuracy'] # , 'F1 score''Precision', 'Recall']\n",
        "performance = pd.DataFrame(index=[index_names])\n",
        "print(performance)\n",
        "\n",
        "N = 0\n",
        "for clf in clsfs:\n",
        "    # Train and test classifier\n",
        "    clf.fit(feat_train_pca, label_train)\n",
        "    pred = clf.predict(feat_test_pca)\n",
        "\n",
        "    if hasattr(clf, 'predict_proba'):\n",
        "    # The first column gives the probability for class = 0, so we take\n",
        "    # the second which gives the probability class = 1:\n",
        "        score = clf.predict_proba(feat_test_pca)[:, 1]\n",
        "    else:\n",
        "        score = pred\n",
        "\n",
        "    # Performance\n",
        "    auc = metrics.roc_auc_score(label_test, score)\n",
        "    accuracy = metrics.accuracy_score(label_test, pred)\n",
        "    # F1 = metrics.f1_score(label_test, pred)\n",
        "    # precision = metrics.precision_score(label_test, pred)\n",
        "    # recall = metrics.recall_score(label_test, pred)\n",
        "\n",
        "    # Put into dataframe\n",
        "    performance[col_names[N]] = [auc, accuracy] #, F1, precision, recall]\n",
        "    N += 1\n",
        "\n",
        "performance = performance.transpose()\n",
        "print(performance)\n"
      ],
      "execution_count": 39,
      "outputs": [
        {
          "output_type": "stream",
          "text": [
            "The number of samples: 113\n",
            "The number of columns: 160\n",
            "Empty DataFrame\n",
            "Columns: []\n",
            "Index: [(AUC,), (Accuracy,)]\n",
            "                    AUC  Accuracy\n",
            "LDA            0.691871  0.586957\n",
            "QDA            0.754253  0.739130\n",
            "Gaussian NB    0.750473  0.695652\n",
            "Logistic Regr  0.716446  0.500000\n",
            "SGDC           0.543478  0.543478\n",
            "KNN            0.770321  0.695652\n"
          ],
          "name": "stdout"
        }
      ]
    }
  ]
}